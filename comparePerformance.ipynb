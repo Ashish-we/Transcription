{
 "cells": [
  {
   "cell_type": "code",
   "execution_count": 4,
   "id": "0052c81b-fb9e-4b57-a8d4-b4dc72cc5b4d",
   "metadata": {},
   "outputs": [
    {
     "data": {
      "application/vnd.jupyter.widget-view+json": {
       "model_id": "25da4c9855bf403a9e044b669a25998e",
       "version_major": 2,
       "version_minor": 0
      },
      "text/plain": [
       "preprocessor_config.json:   0%|          | 0.00/185k [00:00<?, ?B/s]"
      ]
     },
     "metadata": {},
     "output_type": "display_data"
    },
    {
     "name": "stderr",
     "output_type": "stream",
     "text": [
      "C:\\Users\\Ashish\\transcript\\venv\\Lib\\site-packages\\huggingface_hub\\file_download.py:144: UserWarning: `huggingface_hub` cache-system uses symlinks by default to efficiently store duplicated files but your machine does not support them in C:\\Users\\Ashish\\.cache\\huggingface\\hub\\models--openai--whisper-small. Caching files will still work but in a degraded version that might require more space on your disk. This warning can be disabled by setting the `HF_HUB_DISABLE_SYMLINKS_WARNING` environment variable. For more details, see https://huggingface.co/docs/huggingface_hub/how-to-cache#limitations.\n",
      "To support symlinks on Windows, you either need to activate Developer Mode or to run Python as an administrator. In order to activate developer mode, see this article: https://docs.microsoft.com/en-us/windows/apps/get-started/enable-your-device-for-development\n",
      "  warnings.warn(message)\n"
     ]
    },
    {
     "data": {
      "application/vnd.jupyter.widget-view+json": {
       "model_id": "7996702c83694929a0d0c73de3d8a63e",
       "version_major": 2,
       "version_minor": 0
      },
      "text/plain": [
       "tokenizer_config.json:   0%|          | 0.00/283k [00:00<?, ?B/s]"
      ]
     },
     "metadata": {},
     "output_type": "display_data"
    },
    {
     "data": {
      "application/vnd.jupyter.widget-view+json": {
       "model_id": "c281f15f8b2a40e6a1e5a481360ce88d",
       "version_major": 2,
       "version_minor": 0
      },
      "text/plain": [
       "vocab.json:   0%|          | 0.00/836k [00:00<?, ?B/s]"
      ]
     },
     "metadata": {},
     "output_type": "display_data"
    },
    {
     "data": {
      "application/vnd.jupyter.widget-view+json": {
       "model_id": "6ee151eb836e44cb985a33ea6c5c6c22",
       "version_major": 2,
       "version_minor": 0
      },
      "text/plain": [
       "tokenizer.json:   0%|          | 0.00/2.48M [00:00<?, ?B/s]"
      ]
     },
     "metadata": {},
     "output_type": "display_data"
    },
    {
     "data": {
      "application/vnd.jupyter.widget-view+json": {
       "model_id": "0e9cc71e5ac244b59749b9ae352c0f7b",
       "version_major": 2,
       "version_minor": 0
      },
      "text/plain": [
       "merges.txt:   0%|          | 0.00/494k [00:00<?, ?B/s]"
      ]
     },
     "metadata": {},
     "output_type": "display_data"
    },
    {
     "data": {
      "application/vnd.jupyter.widget-view+json": {
       "model_id": "a80cf16694f441babb6e2d7ec06eefac",
       "version_major": 2,
       "version_minor": 0
      },
      "text/plain": [
       "normalizer.json:   0%|          | 0.00/52.7k [00:00<?, ?B/s]"
      ]
     },
     "metadata": {},
     "output_type": "display_data"
    },
    {
     "data": {
      "application/vnd.jupyter.widget-view+json": {
       "model_id": "aa35bb94c43a44d4869bee6202e54ed0",
       "version_major": 2,
       "version_minor": 0
      },
      "text/plain": [
       "added_tokens.json:   0%|          | 0.00/34.6k [00:00<?, ?B/s]"
      ]
     },
     "metadata": {},
     "output_type": "display_data"
    },
    {
     "data": {
      "application/vnd.jupyter.widget-view+json": {
       "model_id": "450c0bde158941d6bab4815f534b5cde",
       "version_major": 2,
       "version_minor": 0
      },
      "text/plain": [
       "special_tokens_map.json:   0%|          | 0.00/2.19k [00:00<?, ?B/s]"
      ]
     },
     "metadata": {},
     "output_type": "display_data"
    },
    {
     "data": {
      "application/vnd.jupyter.widget-view+json": {
       "model_id": "3f03a475f8694fb59d0f1bff26eb5b50",
       "version_major": 2,
       "version_minor": 0
      },
      "text/plain": [
       "config.json:   0%|          | 0.00/1.97k [00:00<?, ?B/s]"
      ]
     },
     "metadata": {},
     "output_type": "display_data"
    },
    {
     "data": {
      "application/vnd.jupyter.widget-view+json": {
       "model_id": "5daf86f9529d4faab2c12a09501597b3",
       "version_major": 2,
       "version_minor": 0
      },
      "text/plain": [
       "model.safetensors:   0%|          | 0.00/967M [00:00<?, ?B/s]"
      ]
     },
     "metadata": {},
     "output_type": "display_data"
    },
    {
     "data": {
      "application/vnd.jupyter.widget-view+json": {
       "model_id": "706a0ee7de584338b8a68ca83a52b2b9",
       "version_major": 2,
       "version_minor": 0
      },
      "text/plain": [
       "generation_config.json:   0%|          | 0.00/3.87k [00:00<?, ?B/s]"
      ]
     },
     "metadata": {},
     "output_type": "display_data"
    },
    {
     "name": "stderr",
     "output_type": "stream",
     "text": [
      "C:\\Users\\Ashish\\transcript\\venv\\Lib\\site-packages\\transformers\\modeling_utils.py:3339: UserWarning: Moving the following attributes in the config to the generation config: {'max_length': 448, 'suppress_tokens': [1, 2, 7, 8, 9, 10, 14, 25, 26, 27, 28, 29, 31, 58, 59, 60, 61, 62, 63, 90, 91, 92, 93, 359, 503, 522, 542, 873, 893, 902, 918, 922, 931, 1350, 1853, 1982, 2460, 2627, 3246, 3253, 3268, 3536, 3846, 3961, 4183, 4667, 6585, 6647, 7273, 9061, 9383, 10428, 10929, 11938, 12033, 12331, 12562, 13793, 14157, 14635, 15265, 15618, 16553, 16604, 18362, 18956, 20075, 21675, 22520, 26130, 26161, 26435, 28279, 29464, 31650, 32302, 32470, 36865, 42863, 47425, 49870, 50254, 50258, 50360, 50361, 50362], 'begin_suppress_tokens': [220, 50257]}. You are seeing this warning because you've set generation parameters in the model config, as opposed to in the generation config.\n",
      "  warnings.warn(\n"
     ]
    },
    {
     "data": {
      "text/plain": [
       "[]"
      ]
     },
     "execution_count": 4,
     "metadata": {},
     "output_type": "execute_result"
    }
   ],
   "source": [
    "from transformers import WhisperProcessor, WhisperForConditionalGeneration\n",
    "\n",
    "model_name = \"openai/whisper-small\"\n",
    "processor = WhisperProcessor.from_pretrained(model_name)\n",
    "model = WhisperForConditionalGeneration.from_pretrained(model_name)\n",
    "model.save_pretrained(\"C:/Users/Ashish/transcript/goodnight-moon/1st_Place/assets/whisper-small.en\")\n",
    "processor.save_pretrained(\"C:/Users/Ashish/transcript/goodnight-moon/1st_Place/assets/whisper-small.en\")"
   ]
  },
  {
   "cell_type": "code",
   "execution_count": 6,
   "id": "5c773937-d824-446f-9efb-b983e7d94aa5",
   "metadata": {},
   "outputs": [
    {
     "name": "stderr",
     "output_type": "stream",
     "text": [
      "Transcribing with both models: 100%|███████████████████████████████████████████████████| 39/39 [03:52<00:00,  5.96s/it]\n"
     ]
    },
    {
     "name": "stdout",
     "output_type": "stream",
     "text": [
      "Comparison saved to comparison.csv\n",
      "\n",
      "Baseline Whisper Avg Accuracy: 66.52%\n",
      "Fine-Tuned Whisper Avg Accuracy: 64.70%\n"
     ]
    },
    {
     "data": {
      "image/png": "[encoded data removed]",
      "text/plain": [
       "<Figure size 600x400 with 1 Axes>"
      ]
     },
     "metadata": {},
     "output_type": "display_data"
    }
   ],
   "source": [
    "#comparing the whisper base model with finetune whisper base model on dataset a\n",
    "\n",
    "import whisper\n",
    "import csv\n",
    "import os\n",
    "import warnings\n",
    "from tqdm import tqdm\n",
    "import jiwer\n",
    "from transformers import WhisperProcessor, WhisperForConditionalGeneration\n",
    "import torch\n",
    "import torchaudio\n",
    "from pydub import AudioSegment\n",
    "from transformers import WhisperForConditionalGeneration, WhisperProcessor\n",
    "import matplotlib.pyplot as plt\n",
    "\n",
    "# Setup\n",
    "warnings.filterwarnings(\"ignore\", category=UserWarning)\n",
    "warnings.filterwarnings(\"ignore\", category=FutureWarning)\n",
    "\n",
    "transforms = jiwer.Compose([\n",
    "    jiwer.ExpandCommonEnglishContractions(),\n",
    "    jiwer.RemoveEmptyStrings(),\n",
    "    jiwer.ToLowerCase(),\n",
    "    jiwer.RemoveMultipleSpaces(),\n",
    "    jiwer.Strip(),\n",
    "    jiwer.RemovePunctuation(),\n",
    "    jiwer.ReduceToListOfListOfWords(),\n",
    "])\n",
    "\n",
    "supported_formats = (\".mp3\", \".wav\")  # Add other formats if needed\n",
    "\n",
    "# Load the fine-tuned Whisper model\n",
    "model_path = \"C:/Users/Ashish/transcript/goodnight-moon/1st_Place/assets/whisper-base.en\"\n",
    "ft_processor = WhisperProcessor.from_pretrained(model_path)\n",
    "ft_model = WhisperForConditionalGeneration.from_pretrained(model_path)\n",
    "ft_model.eval()\n",
    "\n",
    "\n",
    "def custom_transcribe(audio_path):\n",
    "    # Load and preprocess the audio\n",
    "    speech_array, sampling_rate = torchaudio.load(audio_path)\n",
    "    resampler = torchaudio.transforms.Resample(orig_freq=sampling_rate, new_freq=16000)\n",
    "    speech = resampler(speech_array).squeeze().numpy()\n",
    "\n",
    "    # Extract features\n",
    "    features = ft_processor.feature_extractor(speech, sampling_rate=16000, return_tensors=\"pt\")\n",
    "    input_features = features.input_features\n",
    "\n",
    "    # 🔥 Remove forced_decoder_ids from model config directly\n",
    "    if hasattr(ft_model.generation_config, \"forced_decoder_ids\"):\n",
    "        ft_model.generation_config.forced_decoder_ids = None\n",
    "\n",
    "    # Generate and decode\n",
    "    with torch.no_grad():\n",
    "        predicted_ids = ft_model.generate(input_features)\n",
    "\n",
    "    transcription = ft_processor.tokenizer.batch_decode(predicted_ids, skip_special_tokens=True)[0]\n",
    "    return transcription\n",
    "\n",
    "\n",
    "def transcribe_with_both_models(audio_dir):\n",
    "    baseline_results = []\n",
    "    modified_results = []\n",
    "\n",
    "    files = [f for f in os.listdir(audio_dir) if f.endswith(supported_formats)]\n",
    "\n",
    "    for filename in tqdm(files, desc=\"Transcribing with both models\"):\n",
    "        file_path = os.path.join(audio_dir, filename)\n",
    "        txt_filename = os.path.splitext(filename)[0] + \".txt\"\n",
    "        txt_path = os.path.join(audio_dir, txt_filename)\n",
    "\n",
    "        # Load ground truth\n",
    "        ground_truth = \"\"\n",
    "        if os.path.exists(txt_path):\n",
    "            with open(txt_path, \"r\", encoding=\"utf-8\") as gt_file:\n",
    "                ground_truth = gt_file.read()\n",
    "\n",
    "        # Baseline Whisper transcription\n",
    "        base_model = whisper.load_model(\"base\")\n",
    "        base_result = base_model.transcribe(file_path)\n",
    "        base_text = base_result[\"text\"]\n",
    "        base_error = jiwer.wer(ground_truth, base_text, truth_transform=transforms, hypothesis_transform=transforms)\n",
    "        base_accuracy = max((1 - base_error) * 100,0)\n",
    "\n",
    "        # Fine-tuned Whisper transcription\n",
    "        try:\n",
    "            modified_text = custom_transcribe(file_path)\n",
    "            mod_error = jiwer.wer(ground_truth, modified_text, truth_transform=transforms, hypothesis_transform=transforms)\n",
    "            mod_accuracy = max((1 - mod_error) * 100,0)\n",
    "        except Exception as e:\n",
    "            modified_text = \"\"\n",
    "            mod_accuracy = 0.0\n",
    "            print(f\"Error processing {filename} with fine-tuned model: {e}\")\n",
    "\n",
    "        baseline_results.append({\n",
    "            \"filename\": filename,\n",
    "            \"transcription\": base_text,\n",
    "            \"ground_truth\": ground_truth,\n",
    "            \"accuracy\": round(base_accuracy, 2)\n",
    "        })\n",
    "\n",
    "        modified_results.append({\n",
    "            \"filename\": filename,\n",
    "            \"transcription\": modified_text,\n",
    "            \"ground_truth\": ground_truth,\n",
    "            \"accuracy\": round(mod_accuracy, 2)\n",
    "        })\n",
    "\n",
    "    return baseline_results, modified_results\n",
    "\n",
    "def save_comparison_to_csv(baseline, modified, output_file=\"comparisonBaseModelDatasetA.csv\"):\n",
    "    with open(output_file, mode=\"w\", newline=\"\", encoding=\"utf-8\") as file:\n",
    "        writer = csv.writer(file)\n",
    "        writer.writerow([\"Filename\", \"Baseline Accuracy (%)\", \"Modified Accuracy (%)\", \"Baseline Text\", \"Modified Text\", \"Ground Truth\"])\n",
    "        for b, m in zip(baseline, modified):\n",
    "            writer.writerow([b[\"filename\"], b[\"accuracy\"], m[\"accuracy\"], b[\"transcription\"], m[\"transcription\"], b[\"ground_truth\"]])\n",
    "\n",
    "# Run transcription on the audio datasets\n",
    "audio_dir = \"dataset/a/\"  \n",
    "baseline_results, modified_results = transcribe_with_both_models(audio_dir)\n",
    "\n",
    "# Save to CSV\n",
    "save_comparison_to_csv(baseline_results, modified_results)\n",
    "print(\"Comparison saved to comparisonBaseModelDatasetA.csv\")\n",
    "\n",
    "# Print average accuracy\n",
    "baseline_avg = sum([x[\"accuracy\"] for x in baseline_results]) / len(baseline_results)\n",
    "modified_avg = sum([x[\"accuracy\"] for x in modified_results]) / len(modified_results)\n",
    "print(f\"\\nBaseline Whisper Avg Accuracy: {baseline_avg:.2f}%\")\n",
    "print(f\"Fine-Tuned Whisper Avg Accuracy: {modified_avg:.2f}%\")\n",
    "\n",
    "# Plot Comparison\n",
    "plt.figure(figsize=(6, 4))\n",
    "plt.bar([\"Baseline\", \"Modified\"], [baseline_avg, modified_avg], color=[\"#1f77b4\", \"#2ca02c\"])\n",
    "plt.ylabel(\"Average Accuracy (%)\")\n",
    "plt.title(\"Whisper Model Accuracy Comparison\")\n",
    "plt.ylim(0, 100)\n",
    "plt.grid(True, axis='y', linestyle='--', alpha=0.7)\n",
    "plt.tight_layout()\n",
    "plt.savefig(\"whisper_accuracy_comparison.png\")\n",
    "plt.show()\n"
   ]
  },
  {
   "cell_type": "code",
   "execution_count": 8,
   "id": "06fa6636-cca1-4e2b-b4ec-db1acd949735",
   "metadata": {},
   "outputs": [
    {
     "name": "stderr",
     "output_type": "stream",
     "text": [
      "Transcribing with both models: 100%|███████████████████████████████████████████████████| 51/51 [21:47<00:00, 25.64s/it]\n"
     ]
    },
    {
     "name": "stdout",
     "output_type": "stream",
     "text": [
      "Comparison saved to comparison.csv\n",
      "\n",
      "Baseline Whisper Avg Accuracy: 52.37%\n",
      "Fine-Tuned Whisper Avg Accuracy: 56.61%\n"
     ]
    },
    {
     "data": {
      "image/png": "[encoded data removed]",
      "text/plain": [
       "<Figure size 600x400 with 1 Axes>"
      ]
     },
     "metadata": {},
     "output_type": "display_data"
    }
   ],
   "source": [
    "#comparing the whisper base model with finetune whisper base model on dataset b\n",
    "\n",
    "import whisper\n",
    "import csv\n",
    "import os\n",
    "import warnings\n",
    "from tqdm import tqdm\n",
    "import jiwer\n",
    "from transformers import WhisperProcessor, WhisperForConditionalGeneration\n",
    "import torch\n",
    "import torchaudio\n",
    "from pydub import AudioSegment\n",
    "from transformers import WhisperForConditionalGeneration, WhisperProcessor\n",
    "import matplotlib.pyplot as plt\n",
    "\n",
    "# Setup\n",
    "warnings.filterwarnings(\"ignore\", category=UserWarning)\n",
    "warnings.filterwarnings(\"ignore\", category=FutureWarning)\n",
    "\n",
    "transforms = jiwer.Compose([\n",
    "    jiwer.ExpandCommonEnglishContractions(),\n",
    "    jiwer.RemoveEmptyStrings(),\n",
    "    jiwer.ToLowerCase(),\n",
    "    jiwer.RemoveMultipleSpaces(),\n",
    "    jiwer.Strip(),\n",
    "    jiwer.RemovePunctuation(),\n",
    "    jiwer.ReduceToListOfListOfWords(),\n",
    "])\n",
    "\n",
    "supported_formats = (\".mp3\", \".wav\")  # Add other formats if needed\n",
    "\n",
    "# Load the fine-tuned Whisper model\n",
    "model_path = \"C:/Users/Ashish/transcript/goodnight-moon/1st_Place/assets/whisper-base.en\"\n",
    "ft_processor = WhisperProcessor.from_pretrained(model_path)\n",
    "ft_model = WhisperForConditionalGeneration.from_pretrained(model_path)\n",
    "ft_model.eval()\n",
    "\n",
    "\n",
    "def custom_transcribe(audio_path):\n",
    "    # Load and preprocess the audio\n",
    "    speech_array, sampling_rate = torchaudio.load(audio_path)\n",
    "    resampler = torchaudio.transforms.Resample(orig_freq=sampling_rate, new_freq=16000)\n",
    "    speech = resampler(speech_array).squeeze().numpy()\n",
    "\n",
    "    # Extract features\n",
    "    features = ft_processor.feature_extractor(speech, sampling_rate=16000, return_tensors=\"pt\")\n",
    "    input_features = features.input_features\n",
    "\n",
    "    # 🔥 Remove forced_decoder_ids from model config directly\n",
    "    if hasattr(ft_model.generation_config, \"forced_decoder_ids\"):\n",
    "        ft_model.generation_config.forced_decoder_ids = None\n",
    "\n",
    "    # Generate and decode\n",
    "    with torch.no_grad():\n",
    "        predicted_ids = ft_model.generate(input_features)\n",
    "\n",
    "    transcription = ft_processor.tokenizer.batch_decode(predicted_ids, skip_special_tokens=True)[0]\n",
    "    return transcription\n",
    "\n",
    "\n",
    "def transcribe_with_both_models(audio_dir):\n",
    "    baseline_results = []\n",
    "    modified_results = []\n",
    "\n",
    "    files = [f for f in os.listdir(audio_dir) if f.endswith(supported_formats)]\n",
    "\n",
    "    for filename in tqdm(files, desc=\"Transcribing with both models\"):\n",
    "        file_path = os.path.join(audio_dir, filename)\n",
    "        txt_filename = os.path.splitext(filename)[0] + \".txt\"\n",
    "        txt_path = os.path.join(audio_dir, txt_filename)\n",
    "\n",
    "        # Load ground truth\n",
    "        ground_truth = \"\"\n",
    "        if os.path.exists(txt_path):\n",
    "            with open(txt_path, \"r\", encoding=\"utf-8\") as gt_file:\n",
    "                ground_truth = gt_file.read()\n",
    "\n",
    "        # Baseline Whisper transcription\n",
    "        base_model = whisper.load_model(\"base\")\n",
    "        base_result = base_model.transcribe(file_path)\n",
    "        base_text = base_result[\"text\"]\n",
    "        base_error = jiwer.wer(ground_truth, base_text, truth_transform=transforms, hypothesis_transform=transforms)\n",
    "        base_accuracy = max((1 - base_error) * 100,0)\n",
    "\n",
    "        # Fine-tuned Whisper transcription\n",
    "        try:\n",
    "            modified_text = custom_transcribe(file_path)\n",
    "            mod_error = jiwer.wer(ground_truth, modified_text, truth_transform=transforms, hypothesis_transform=transforms)\n",
    "            mod_accuracy = max((1 - mod_error) * 100,0)\n",
    "        except Exception as e:\n",
    "            modified_text = \"\"\n",
    "            mod_accuracy = 0.0\n",
    "            print(f\"Error processing {filename} with fine-tuned model: {e}\")\n",
    "\n",
    "        baseline_results.append({\n",
    "            \"filename\": filename,\n",
    "            \"transcription\": base_text,\n",
    "            \"ground_truth\": ground_truth,\n",
    "            \"accuracy\": round(base_accuracy, 2)\n",
    "        })\n",
    "\n",
    "        modified_results.append({\n",
    "            \"filename\": filename,\n",
    "            \"transcription\": modified_text,\n",
    "            \"ground_truth\": ground_truth,\n",
    "            \"accuracy\": round(mod_accuracy, 2)\n",
    "        })\n",
    "\n",
    "    return baseline_results, modified_results\n",
    "\n",
    "def save_comparison_to_csv(baseline, modified, output_file=\"comparisonBaseModelDatasetB.csv\"):\n",
    "    with open(output_file, mode=\"w\", newline=\"\", encoding=\"utf-8\") as file:\n",
    "        writer = csv.writer(file)\n",
    "        writer.writerow([\"Filename\", \"Baseline Accuracy (%)\", \"Modified Accuracy (%)\", \"Baseline Text\", \"Modified Text\", \"Ground Truth\"])\n",
    "        for b, m in zip(baseline, modified):\n",
    "            writer.writerow([b[\"filename\"], b[\"accuracy\"], m[\"accuracy\"], b[\"transcription\"], m[\"transcription\"], b[\"ground_truth\"]])\n",
    "\n",
    "# Run transcription on the audio datasets\n",
    "audio_dir = \"dataset/b/\"  \n",
    "baseline_results, modified_results = transcribe_with_both_models(audio_dir)\n",
    "\n",
    "# Save to CSV\n",
    "save_comparison_to_csv(baseline_results, modified_results)\n",
    "print(\"Comparison saved to comparisonBaseModelDatasetB.csv\")\n",
    "\n",
    "# Print average accuracy\n",
    "baseline_avg = sum([x[\"accuracy\"] for x in baseline_results]) / len(baseline_results)\n",
    "modified_avg = sum([x[\"accuracy\"] for x in modified_results]) / len(modified_results)\n",
    "print(f\"\\nBaseline Whisper Avg Accuracy: {baseline_avg:.2f}%\")\n",
    "print(f\"Fine-Tuned Whisper Avg Accuracy: {modified_avg:.2f}%\")\n",
    "\n",
    "# Plot Comparison\n",
    "plt.figure(figsize=(6, 4))\n",
    "plt.bar([\"Baseline\", \"Modified\"], [baseline_avg, modified_avg], color=[\"#1f77b4\", \"#2ca02c\"])\n",
    "plt.ylabel(\"Average Accuracy (%)\")\n",
    "plt.title(\"Whisper Model Accuracy Comparison\")\n",
    "plt.ylim(0, 100)\n",
    "plt.grid(True, axis='y', linestyle='--', alpha=0.7)\n",
    "plt.tight_layout()\n",
    "plt.savefig(\"whisper_accuracy_comparison.png\")\n",
    "plt.show()\n"
   ]
  },
  {
   "cell_type": "code",
   "execution_count": 10,
   "id": "c690d0fb-8988-4397-b31c-66201aadbd45",
   "metadata": {},
   "outputs": [
    {
     "name": "stderr",
     "output_type": "stream",
     "text": [
      "Transcribing with both models: 100%|███████████████████████████████████████████████████| 39/39 [24:56<00:00, 38.38s/it]\n"
     ]
    },
    {
     "name": "stdout",
     "output_type": "stream",
     "text": [
      "Comparison saved to comparisonSmallModelDatasetA.csv\n",
      "\n",
      "Baseline Whisper Avg Accuracy: 72.41%\n",
      "Fine-Tuned Whisper Avg Accuracy: 76.91%\n"
     ]
    },
    {
     "data": {
      "image/png": "[encoded data removed]",
      "text/plain": [
       "<Figure size 600x400 with 1 Axes>"
      ]
     },
     "metadata": {},
     "output_type": "display_data"
    }
   ],
   "source": [
    "#comparing the whisper small model with finetune whisper small model on dataset a\n",
    "\n",
    "import whisper\n",
    "import csv\n",
    "import os\n",
    "import warnings\n",
    "from tqdm import tqdm\n",
    "import jiwer\n",
    "from transformers import WhisperProcessor, WhisperForConditionalGeneration\n",
    "import torch\n",
    "import torchaudio\n",
    "from pydub import AudioSegment\n",
    "from transformers import WhisperForConditionalGeneration, WhisperProcessor\n",
    "import matplotlib.pyplot as plt\n",
    "\n",
    "# Setup\n",
    "warnings.filterwarnings(\"ignore\", category=UserWarning)\n",
    "warnings.filterwarnings(\"ignore\", category=FutureWarning)\n",
    "\n",
    "transforms = jiwer.Compose([\n",
    "    jiwer.ExpandCommonEnglishContractions(),\n",
    "    jiwer.RemoveEmptyStrings(),\n",
    "    jiwer.ToLowerCase(),\n",
    "    jiwer.RemoveMultipleSpaces(),\n",
    "    jiwer.Strip(),\n",
    "    jiwer.RemovePunctuation(),\n",
    "    jiwer.ReduceToListOfListOfWords(),\n",
    "])\n",
    "\n",
    "supported_formats = (\".mp3\", \".wav\")  # Add other formats if needed\n",
    "\n",
    "# Load the fine-tuned Whisper model\n",
    "model_path = \"C:/Users/Ashish/transcript/goodnight-moon/1st_Place/assets/whisper-small.en\"\n",
    "ft_processor = WhisperProcessor.from_pretrained(model_path)\n",
    "ft_model = WhisperForConditionalGeneration.from_pretrained(model_path)\n",
    "ft_model.eval()\n",
    "\n",
    "\n",
    "def custom_transcribe(audio_path):\n",
    "    # Load and preprocess the audio\n",
    "    speech_array, sampling_rate = torchaudio.load(audio_path)\n",
    "    resampler = torchaudio.transforms.Resample(orig_freq=sampling_rate, new_freq=16000)\n",
    "    speech = resampler(speech_array).squeeze().numpy()\n",
    "\n",
    "    # Extract features\n",
    "    features = ft_processor.feature_extractor(speech, sampling_rate=16000, return_tensors=\"pt\")\n",
    "    input_features = features.input_features\n",
    "\n",
    "    # 🔥 Remove forced_decoder_ids from model config directly\n",
    "    if hasattr(ft_model.generation_config, \"forced_decoder_ids\"):\n",
    "        ft_model.generation_config.forced_decoder_ids = None\n",
    "\n",
    "    # Generate and decode\n",
    "    with torch.no_grad():\n",
    "        predicted_ids = ft_model.generate(input_features)\n",
    "\n",
    "    transcription = ft_processor.tokenizer.batch_decode(predicted_ids, skip_special_tokens=True)[0]\n",
    "    return transcription\n",
    "\n",
    "\n",
    "def transcribe_with_both_models(audio_dir):\n",
    "    baseline_results = []\n",
    "    modified_results = []\n",
    "\n",
    "    files = [f for f in os.listdir(audio_dir) if f.endswith(supported_formats)]\n",
    "\n",
    "    for filename in tqdm(files, desc=\"Transcribing with both models\"):\n",
    "        file_path = os.path.join(audio_dir, filename)\n",
    "        txt_filename = os.path.splitext(filename)[0] + \".txt\"\n",
    "        txt_path = os.path.join(audio_dir, txt_filename)\n",
    "\n",
    "        # Load ground truth\n",
    "        ground_truth = \"\"\n",
    "        if os.path.exists(txt_path):\n",
    "            with open(txt_path, \"r\", encoding=\"utf-8\") as gt_file:\n",
    "                ground_truth = gt_file.read()\n",
    "\n",
    "        # Baseline Whisper transcription\n",
    "        base_model = whisper.load_model(\"small\")\n",
    "        base_result = base_model.transcribe(file_path)\n",
    "        base_text = base_result[\"text\"]\n",
    "        base_error = jiwer.wer(ground_truth, base_text, truth_transform=transforms, hypothesis_transform=transforms)\n",
    "        base_accuracy = max((1 - base_error) * 100,0)\n",
    "\n",
    "        # Fine-tuned Whisper transcription\n",
    "        try:\n",
    "            modified_text = custom_transcribe(file_path)\n",
    "            mod_error = jiwer.wer(ground_truth, modified_text, truth_transform=transforms, hypothesis_transform=transforms)\n",
    "            mod_accuracy = max((1 - mod_error) * 100,0)\n",
    "        except Exception as e:\n",
    "            modified_text = \"\"\n",
    "            mod_accuracy = 0.0\n",
    "            print(f\"Error processing {filename} with fine-tuned model: {e}\")\n",
    "\n",
    "        baseline_results.append({\n",
    "            \"filename\": filename,\n",
    "            \"transcription\": base_text,\n",
    "            \"ground_truth\": ground_truth,\n",
    "            \"accuracy\": round(base_accuracy, 2)\n",
    "        })\n",
    "\n",
    "        modified_results.append({\n",
    "            \"filename\": filename,\n",
    "            \"transcription\": modified_text,\n",
    "            \"ground_truth\": ground_truth,\n",
    "            \"accuracy\": round(mod_accuracy, 2)\n",
    "        })\n",
    "\n",
    "    return baseline_results, modified_results\n",
    "\n",
    "def save_comparison_to_csv(baseline, modified, output_file=\"comparisonSmallModelDatasetA.csv\"):\n",
    "    with open(output_file, mode=\"w\", newline=\"\", encoding=\"utf-8\") as file:\n",
    "        writer = csv.writer(file)\n",
    "        writer.writerow([\"Filename\", \"Baseline Accuracy (%)\", \"Modified Accuracy (%)\", \"Baseline Text\", \"Modified Text\", \"Ground Truth\"])\n",
    "        for b, m in zip(baseline, modified):\n",
    "            writer.writerow([b[\"filename\"], b[\"accuracy\"], m[\"accuracy\"], b[\"transcription\"], m[\"transcription\"], b[\"ground_truth\"]])\n",
    "\n",
    "# Run transcription on the audio datasets\n",
    "audio_dir = \"dataset/a/\"  \n",
    "baseline_results, modified_results = transcribe_with_both_models(audio_dir)\n",
    "\n",
    "# Save to CSV\n",
    "save_comparison_to_csv(baseline_results, modified_results)\n",
    "print(\"Comparison saved to comparisonSmallModelDatasetA.csv\")\n",
    "\n",
    "# Print average accuracy\n",
    "baseline_avg = sum([x[\"accuracy\"] for x in baseline_results]) / len(baseline_results)\n",
    "modified_avg = sum([x[\"accuracy\"] for x in modified_results]) / len(modified_results)\n",
    "print(f\"\\nBaseline Whisper Avg Accuracy: {baseline_avg:.2f}%\")\n",
    "print(f\"Fine-Tuned Whisper Avg Accuracy: {modified_avg:.2f}%\")\n",
    "\n",
    "# Plot Comparison\n",
    "plt.figure(figsize=(6, 4))\n",
    "plt.bar([\"Baseline\", \"Modified\"], [baseline_avg, modified_avg], color=[\"#1f77b4\", \"#2ca02c\"])\n",
    "plt.ylabel(\"Average Accuracy (%)\")\n",
    "plt.title(\"Whisper Model Accuracy Comparison\")\n",
    "plt.ylim(0, 100)\n",
    "plt.grid(True, axis='y', linestyle='--', alpha=0.7)\n",
    "plt.tight_layout()\n",
    "plt.savefig(\"whisper_accuracy_comparison.png\")\n",
    "plt.show()\n"
   ]
  },
  {
   "cell_type": "code",
   "execution_count": 11,
   "id": "9bb65e4a-bcba-426a-a06d-25495b88916f",
   "metadata": {},
   "outputs": [
    {
     "name": "stderr",
     "output_type": "stream",
     "text": [
      "Transcribing with both models: 100%|███████████████████████████████████████████████████| 51/51 [29:49<00:00, 35.08s/it]\n"
     ]
    },
    {
     "name": "stdout",
     "output_type": "stream",
     "text": [
      "Comparison saved to comparisonSmallModelDatasetB.csv\n",
      "\n",
      "Baseline Whisper Avg Accuracy: 64.72%\n",
      "Fine-Tuned Whisper Avg Accuracy: 67.42%\n"
     ]
    },
    {
     "data": {
      "image/png": "[encoded data removed]",
      "text/plain": [
       "<Figure size 600x400 with 1 Axes>"
      ]
     },
     "metadata": {},
     "output_type": "display_data"
    }
   ],
   "source": [
    "#comparing the whisper small model with finetune whisper small model on dataset b\n",
    "\n",
    "import whisper\n",
    "import csv\n",
    "import os\n",
    "import warnings\n",
    "from tqdm import tqdm\n",
    "import jiwer\n",
    "from transformers import WhisperProcessor, WhisperForConditionalGeneration\n",
    "import torch\n",
    "import torchaudio\n",
    "from pydub import AudioSegment\n",
    "from transformers import WhisperForConditionalGeneration, WhisperProcessor\n",
    "import matplotlib.pyplot as plt\n",
    "\n",
    "# Setup\n",
    "warnings.filterwarnings(\"ignore\", category=UserWarning)\n",
    "warnings.filterwarnings(\"ignore\", category=FutureWarning)\n",
    "\n",
    "transforms = jiwer.Compose([\n",
    "    jiwer.ExpandCommonEnglishContractions(),\n",
    "    jiwer.RemoveEmptyStrings(),\n",
    "    jiwer.ToLowerCase(),\n",
    "    jiwer.RemoveMultipleSpaces(),\n",
    "    jiwer.Strip(),\n",
    "    jiwer.RemovePunctuation(),\n",
    "    jiwer.ReduceToListOfListOfWords(),\n",
    "])\n",
    "\n",
    "supported_formats = (\".mp3\", \".wav\")  # Add other formats if needed\n",
    "\n",
    "# Load the fine-tuned Whisper model\n",
    "model_path = \"C:/Users/Ashish/transcript/goodnight-moon/1st_Place/assets/whisper-small.en\"\n",
    "ft_processor = WhisperProcessor.from_pretrained(model_path)\n",
    "ft_model = WhisperForConditionalGeneration.from_pretrained(model_path)\n",
    "ft_model.eval()\n",
    "\n",
    "\n",
    "def custom_transcribe(audio_path):\n",
    "    # Load and preprocess the audio\n",
    "    speech_array, sampling_rate = torchaudio.load(audio_path)\n",
    "    resampler = torchaudio.transforms.Resample(orig_freq=sampling_rate, new_freq=16000)\n",
    "    speech = resampler(speech_array).squeeze().numpy()\n",
    "\n",
    "    # Extract features\n",
    "    features = ft_processor.feature_extractor(speech, sampling_rate=16000, return_tensors=\"pt\")\n",
    "    input_features = features.input_features\n",
    "\n",
    "    # 🔥 Remove forced_decoder_ids from model config directly\n",
    "    if hasattr(ft_model.generation_config, \"forced_decoder_ids\"):\n",
    "        ft_model.generation_config.forced_decoder_ids = None\n",
    "\n",
    "    # Generate and decode\n",
    "    with torch.no_grad():\n",
    "        predicted_ids = ft_model.generate(input_features)\n",
    "\n",
    "    transcription = ft_processor.tokenizer.batch_decode(predicted_ids, skip_special_tokens=True)[0]\n",
    "    return transcription\n",
    "\n",
    "\n",
    "def transcribe_with_both_models(audio_dir):\n",
    "    baseline_results = []\n",
    "    modified_results = []\n",
    "\n",
    "    files = [f for f in os.listdir(audio_dir) if f.endswith(supported_formats)]\n",
    "\n",
    "    for filename in tqdm(files, desc=\"Transcribing with both models\"):\n",
    "        file_path = os.path.join(audio_dir, filename)\n",
    "        txt_filename = os.path.splitext(filename)[0] + \".txt\"\n",
    "        txt_path = os.path.join(audio_dir, txt_filename)\n",
    "\n",
    "        # Load ground truth\n",
    "        ground_truth = \"\"\n",
    "        if os.path.exists(txt_path):\n",
    "            with open(txt_path, \"r\", encoding=\"utf-8\") as gt_file:\n",
    "                ground_truth = gt_file.read()\n",
    "\n",
    "        # Baseline Whisper transcription\n",
    "        base_model = whisper.load_model(\"small\")\n",
    "        base_result = base_model.transcribe(file_path)\n",
    "        base_text = base_result[\"text\"]\n",
    "        base_error = jiwer.wer(ground_truth, base_text, truth_transform=transforms, hypothesis_transform=transforms)\n",
    "        base_accuracy = max((1 - base_error) * 100,0)\n",
    "\n",
    "        # Fine-tuned Whisper transcription\n",
    "        try:\n",
    "            modified_text = custom_transcribe(file_path)\n",
    "            mod_error = jiwer.wer(ground_truth, modified_text, truth_transform=transforms, hypothesis_transform=transforms)\n",
    "            mod_accuracy = max((1 - mod_error) * 100,0)\n",
    "        except Exception as e:\n",
    "            modified_text = \"\"\n",
    "            mod_accuracy = 0.0\n",
    "            print(f\"Error processing {filename} with fine-tuned model: {e}\")\n",
    "\n",
    "        baseline_results.append({\n",
    "            \"filename\": filename,\n",
    "            \"transcription\": base_text,\n",
    "            \"ground_truth\": ground_truth,\n",
    "            \"accuracy\": round(base_accuracy, 2)\n",
    "        })\n",
    "\n",
    "        modified_results.append({\n",
    "            \"filename\": filename,\n",
    "            \"transcription\": modified_text,\n",
    "            \"ground_truth\": ground_truth,\n",
    "            \"accuracy\": round(mod_accuracy, 2)\n",
    "        })\n",
    "\n",
    "    return baseline_results, modified_results\n",
    "\n",
    "def save_comparison_to_csv(baseline, modified, output_file=\"comparisonSmallModelDatasetB.csv\"):\n",
    "    with open(output_file, mode=\"w\", newline=\"\", encoding=\"utf-8\") as file:\n",
    "        writer = csv.writer(file)\n",
    "        writer.writerow([\"Filename\", \"Baseline Accuracy (%)\", \"Modified Accuracy (%)\", \"Baseline Text\", \"Modified Text\", \"Ground Truth\"])\n",
    "        for b, m in zip(baseline, modified):\n",
    "            writer.writerow([b[\"filename\"], b[\"accuracy\"], m[\"accuracy\"], b[\"transcription\"], m[\"transcription\"], b[\"ground_truth\"]])\n",
    "\n",
    "# Run transcription on the audio datasets\n",
    "audio_dir = \"dataset/b/\"  \n",
    "baseline_results, modified_results = transcribe_with_both_models(audio_dir)\n",
    "\n",
    "# Save to CSV\n",
    "save_comparison_to_csv(baseline_results, modified_results)\n",
    "print(\"Comparison saved to comparisonSmallModelDatasetB.csv\")\n",
    "\n",
    "# Print average accuracy\n",
    "baseline_avg = sum([x[\"accuracy\"] for x in baseline_results]) / len(baseline_results)\n",
    "modified_avg = sum([x[\"accuracy\"] for x in modified_results]) / len(modified_results)\n",
    "print(f\"\\nBaseline Whisper Avg Accuracy: {baseline_avg:.2f}%\")\n",
    "print(f\"Fine-Tuned Whisper Avg Accuracy: {modified_avg:.2f}%\")\n",
    "\n",
    "# Plot Comparison\n",
    "plt.figure(figsize=(6, 4))\n",
    "plt.bar([\"Baseline\", \"Modified\"], [baseline_avg, modified_avg], color=[\"#1f77b4\", \"#2ca02c\"])\n",
    "plt.ylabel(\"Average Accuracy (%)\")\n",
    "plt.title(\"Whisper Model Accuracy Comparison\")\n",
    "plt.ylim(0, 100)\n",
    "plt.grid(True, axis='y', linestyle='--', alpha=0.7)\n",
    "plt.tight_layout()\n",
    "plt.savefig(\"whisper_accuracy_comparison.png\")\n",
    "plt.show()\n"
   ]
  },
  {
   "cell_type": "code",
   "execution_count": null,
   "id": "1ad81222-0641-4f26-800e-f179711ff785",
   "metadata": {},
   "outputs": [],
   "source": []
  }
 ],
 "metadata": {
  "kernelspec": {
   "display_name": "Python 3 (ipykernel)",
   "language": "python",
   "name": "python3"
  },
  "language_info": {
   "codemirror_mode": {
    "name": "ipython",
    "version": 3
   },
   "file_extension": ".py",
   "mimetype": "text/x-python",
   "name": "python",
   "nbconvert_exporter": "python",
   "pygments_lexer": "ipython3",
   "version": "3.11.9"
  }
 },
 "nbformat": 4,
 "nbformat_minor": 5
}
